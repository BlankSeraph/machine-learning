{
 "cells": [
  {
   "cell_type": "code",
   "execution_count": 87,
   "metadata": {},
   "outputs": [
    {
     "data": {
      "image/png": "[encoded data removed]",
      "text/plain": [
       "<Figure size 432x288 with 1 Axes>"
      ]
     },
     "metadata": {
      "needs_background": "light"
     },
     "output_type": "display_data"
    }
   ],
   "source": [
    "import numpy\n",
    "from keras.datasets import mnist\n",
    "from keras.models import Sequential\n",
    "from keras.layers import Dense\n",
    "from keras.layers import Dropout\n",
    "from keras.utils import np_utils\n",
    "import matplotlib.pyplot as plt\n",
    "\n",
    "(X_train, y_train), (X_test, y_test) = mnist.load_data()\n",
    "plt.imshow(X_train[0], cmap=plt.get_cmap('gray'))\n",
    "plt.show()"
   ]
  },
  {
   "cell_type": "code",
   "execution_count": 88,
   "metadata": {},
   "outputs": [],
   "source": [
    "num_pixels = X_train.shape[1] * X_train.shape[2]\n",
    "X_train = X_train.reshape(X_train.shape[0], num_pixels).astype('float32')\n",
    "X_test = X_test.reshape(X_test.shape[0], num_pixels).astype('float32')"
   ]
  },
  {
   "cell_type": "code",
   "execution_count": 89,
   "metadata": {},
   "outputs": [],
   "source": [
    "X_train = X_train / 255\n",
    "X_test = X_test / 255"
   ]
  },
  {
   "cell_type": "code",
   "execution_count": 90,
   "metadata": {},
   "outputs": [],
   "source": [
    "y_train = np_utils.to_categorical(y_train)\n",
    "y_test = np_utils.to_categorical(y_test)\n",
    "num_classes = y_test.shape[1]"
   ]
  },
  {
   "cell_type": "code",
   "execution_count": null,
   "metadata": {},
   "outputs": [],
   "source": [
    "X_predict = X_train[0:1]\n",
    "X_train = X_train[1:]\n",
    "y_train = y_train[1:]"
   ]
  },
  {
   "cell_type": "code",
   "execution_count": 91,
   "metadata": {},
   "outputs": [],
   "source": [
    "# define baseline model\n",
    "# create model\n",
    "model = Sequential()\n",
    "model.add(Dense(num_pixels, input_dim=num_pixels, kernel_initializer='normal', activation='relu'))\n",
    "model.add(Dense(num_classes, kernel_initializer='normal', activation='sigmoid'))\n",
    "# Compile model\n",
    "model.compile(loss='categorical_crossentropy', optimizer='SGD', metrics=['accuracy'])"
   ]
  },
  {
   "cell_type": "code",
   "execution_count": 92,
   "metadata": {},
   "outputs": [
    {
     "name": "stdout",
     "output_type": "stream",
     "text": [
      "Train on 59999 samples, validate on 10000 samples\n",
      "Epoch 1/10\n",
      " - 3s - loss: 1.7162 - acc: 0.5709 - val_loss: 1.0200 - val_acc: 0.8292\n",
      "Epoch 2/10\n",
      " - 3s - loss: 0.7660 - acc: 0.8474 - val_loss: 0.5764 - val_acc: 0.8741\n",
      "Epoch 3/10\n",
      " - 3s - loss: 0.5317 - acc: 0.8756 - val_loss: 0.4566 - val_acc: 0.8907\n",
      "Epoch 4/10\n",
      " - 3s - loss: 0.4475 - acc: 0.8883 - val_loss: 0.4007 - val_acc: 0.8984\n",
      "Epoch 5/10\n",
      " - 3s - loss: 0.4026 - acc: 0.8960 - val_loss: 0.3665 - val_acc: 0.9058\n",
      "Epoch 6/10\n",
      " - 3s - loss: 0.3737 - acc: 0.9016 - val_loss: 0.3441 - val_acc: 0.9103\n",
      "Epoch 7/10\n",
      " - 3s - loss: 0.3532 - acc: 0.9052 - val_loss: 0.3278 - val_acc: 0.9136\n",
      "Epoch 8/10\n",
      " - 3s - loss: 0.3373 - acc: 0.9083 - val_loss: 0.3142 - val_acc: 0.9157\n",
      "Epoch 9/10\n",
      " - 3s - loss: 0.3244 - acc: 0.9113 - val_loss: 0.3037 - val_acc: 0.9180\n",
      "Epoch 10/10\n",
      " - 3s - loss: 0.3137 - acc: 0.9143 - val_loss: 0.2957 - val_acc: 0.9189\n",
      "Baseline Error: 8.11%\n"
     ]
    }
   ],
   "source": [
    "# Fit the model\n",
    "model.fit(X_train, y_train, validation_data=(X_test, y_test), epochs=10, batch_size=200, verbose=2)\n",
    "# Final evaluation of the model\n",
    "scores = model.evaluate(X_test, y_test, verbose=0)\n",
    "print(\"Baseline Error: %.2f%%\" % (100-scores[1]*100))"
   ]
  },
  {
   "cell_type": "code",
   "execution_count": 97,
   "metadata": {},
   "outputs": [
    {
     "name": "stdout",
     "output_type": "stream",
     "text": [
      "(1, 784)\n",
      "(59999, 784)\n",
      "[[2.5784997e-05 9.3658610e-07 2.9874253e-05 9.7476103e-04 3.1756354e-08\n",
      "  1.6533541e-03 2.9697615e-06 2.6879330e-05 2.0863336e-05 5.1061511e-06]]\n"
     ]
    }
   ],
   "source": [
    "y = model.predict(X_predict)\n",
    "print(y)"
   ]
  },
  {
   "cell_type": "code",
   "execution_count": 98,
   "metadata": {},
   "outputs": [
    {
     "name": "stdout",
     "output_type": "stream",
     "text": [
      "\n"
     ]
    }
   ],
   "source": []
  },
  {
   "cell_type": "code",
   "execution_count": null,
   "metadata": {},
   "outputs": [],
   "source": []
  }
 ],
 "metadata": {
  "kernelspec": {
   "display_name": "Python 3",
   "language": "python",
   "name": "python3"
  },
  "language_info": {
   "codemirror_mode": {
    "name": "ipython",
    "version": 3
   },
   "file_extension": ".py",
   "mimetype": "text/x-python",
   "name": "python",
   "nbconvert_exporter": "python",
   "pygments_lexer": "ipython3",
   "version": "3.7.0"
  }
 },
 "nbformat": 4,
 "nbformat_minor": 2
}
