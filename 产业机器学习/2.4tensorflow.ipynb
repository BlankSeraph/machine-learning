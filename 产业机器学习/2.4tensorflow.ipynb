{
 "cells": [
  {
   "cell_type": "markdown",
   "metadata": {},
   "source": [
    "# 梯度下降拟合曲线 --why"
   ]
  },
  {
   "cell_type": "code",
   "execution_count": 7,
   "metadata": {},
   "outputs": [],
   "source": [
    "import numpy as np\n",
    "import tensorflow as tf"
   ]
  },
  {
   "cell_type": "code",
   "execution_count": 8,
   "metadata": {},
   "outputs": [],
   "source": [
    "x_data = np.random.rand(100)"
   ]
  },
  {
   "cell_type": "code",
   "execution_count": 9,
   "metadata": {},
   "outputs": [
    {
     "name": "stdout",
     "output_type": "stream",
     "text": [
      "[0.57612054 0.48013579 0.99551994 0.77941491 0.08468558 0.43065814\n",
      " 0.39682428 0.08576671 0.82832773 0.24773262 0.05432821 0.01315559\n",
      " 0.47635506 0.0174106  0.1261077  0.42267486 0.85526116 0.64798879\n",
      " 0.87445028 0.50684781 0.02410144 0.76322276 0.14547994 0.41187511\n",
      " 0.82668688 0.59949072 0.2426269  0.26741144 0.0954523  0.58263388\n",
      " 0.45160142 0.47245216 0.62603647 0.40582983 0.71758623 0.99349585\n",
      " 0.63269337 0.65584304 0.60827014 0.97850259 0.612752   0.78717089\n",
      " 0.0953029  0.80364235 0.73670748 0.25079641 0.04976145 0.95369207\n",
      " 0.13678867 0.88986578 0.56416055 0.22680697 0.9109502  0.17441735\n",
      " 0.64820507 0.82332205 0.55652715 0.71181194 0.55812914 0.82165696\n",
      " 0.79646161 0.78337734 0.17286806 0.40073809 0.5183208  0.18649215\n",
      " 0.31612459 0.73801293 0.84297978 0.64392202 0.01161113 0.20857585\n",
      " 0.14181206 0.56484492 0.60734299 0.40025885 0.14798507 0.56398998\n",
      " 0.35990614 0.21442678 0.42016188 0.71345216 0.88063544 0.4234289\n",
      " 0.19402868 0.71873712 0.36974229 0.25164936 0.82915244 0.88373753\n",
      " 0.66995596 0.86385545 0.75719941 0.84856069 0.03871733 0.51685534\n",
      " 0.5058689  0.87464946 0.78349089 0.18114775]\n"
     ]
    }
   ],
   "source": [
    "print(x_data)"
   ]
  },
  {
   "cell_type": "code",
   "execution_count": 11,
   "metadata": {},
   "outputs": [],
   "source": [
    "y_data =  .1 * x_data +.2 "
   ]
  },
  {
   "cell_type": "markdown",
   "metadata": {},
   "source": [
    "## 构造一个线性模型优化器\n",
    "优化 $y = kx+b$"
   ]
  },
  {
   "cell_type": "code",
   "execution_count": 12,
   "metadata": {},
   "outputs": [],
   "source": [
    "#待优化的参数\n",
    "b = tf.Variable(0.)\n",
    "k = tf.Variable(0.)\n",
    "y = k * x_data + b\n"
   ]
  },
  {
   "cell_type": "markdown",
   "metadata": {},
   "source": [
    "## 二次代价函数"
   ]
  },
  {
   "cell_type": "code",
   "execution_count": 18,
   "metadata": {},
   "outputs": [],
   "source": [
    "loss = tf.reduce_mean(tf.square(y_data - y))"
   ]
  },
  {
   "cell_type": "markdown",
   "metadata": {},
   "source": [
    "##  指定优化器"
   ]
  },
  {
   "cell_type": "code",
   "execution_count": 19,
   "metadata": {},
   "outputs": [],
   "source": [
    "optimizer = tf.train.GradientDescentOptimizer(0.2)"
   ]
  },
  {
   "cell_type": "code",
   "execution_count": 20,
   "metadata": {},
   "outputs": [],
   "source": [
    "train = optimizer.minimize(loss)"
   ]
  },
  {
   "cell_type": "code",
   "execution_count": 21,
   "metadata": {},
   "outputs": [
    {
     "name": "stdout",
     "output_type": "stream",
     "text": [
      "0 [k,b]: [0.054502606, 0.10042345]\n",
      "20 [k,b]: [0.104054585, 0.19779022]\n",
      "40 [k,b]: [0.102431096, 0.19867507]\n",
      "60 [k,b]: [0.10145764, 0.1992056]\n",
      "80 [k,b]: [0.10087398, 0.19952369]\n",
      "100 [k,b]: [0.10052404, 0.1997144]\n",
      "120 [k,b]: [0.1003142, 0.19982877]\n",
      "140 [k,b]: [0.100188404, 0.19989732]\n",
      "160 [k,b]: [0.10011297, 0.19993843]\n",
      "180 [k,b]: [0.10006773, 0.1999631]\n"
     ]
    }
   ],
   "source": [
    "init = tf.global_variables_initializer()\n",
    "with tf.Session() as sess:\n",
    "    sess.run(init)\n",
    "    for step in range(200):\n",
    "        sess.run(train)\n",
    "        if step%20==0:\n",
    "            print(step,'[k,b]:',sess.run([k,b]))"
   ]
  },
  {
   "cell_type": "code",
   "execution_count": null,
   "metadata": {
    "collapsed": true
   },
   "outputs": [],
   "source": []
  },
  {
   "cell_type": "code",
   "execution_count": null,
   "metadata": {
    "collapsed": true
   },
   "outputs": [],
   "source": []
  },
  {
   "cell_type": "code",
   "execution_count": null,
   "metadata": {
    "collapsed": true
   },
   "outputs": [],
   "source": []
  }
 ],
 "metadata": {
  "anaconda-cloud": {},
  "kernelspec": {
   "display_name": "Python 3",
   "language": "python",
   "name": "python3"
  },
  "language_info": {
   "codemirror_mode": {
    "name": "ipython",
    "version": 3
   },
   "file_extension": ".py",
   "mimetype": "text/x-python",
   "name": "python",
   "nbconvert_exporter": "python",
   "pygments_lexer": "ipython3",
   "version": "3.7.3"
  }
 },
 "nbformat": 4,
 "nbformat_minor": 1
}
