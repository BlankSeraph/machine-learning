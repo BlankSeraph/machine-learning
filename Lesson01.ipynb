{
 "cells": [
  {
   "cell_type": "code",
   "execution_count": 2,
   "metadata": {},
   "outputs": [],
   "source": [
    "import numpy as np\n",
    "import matplotlib\n",
    "import pandas as pd\n",
    "from sklearn import preprocessing\n",
    "import matplotlib.pyplot as plt\n",
    "from sklearn.svm import SVC\n",
    "from sklearn.model_selection import StratifiedKFold\n",
    "from sklearn.feature_selection import RFECV\n",
    "from sklearn.model_selection import GridSearchCV\n",
    "import sklearn.model_selection as sk_model_selection\n",
    "import csv\n",
    "from sklearn.metrics import roc_curve, auc\n",
    "from sklearn.ensemble import RandomForestRegressor\n",
    "import matplotlib.pyplot as plt\n",
    "import pandas as pd"
   ]
  },
  {
   "cell_type": "code",
   "execution_count": 6,
   "metadata": {},
   "outputs": [],
   "source": [
    "\"\"\"\n",
    "数据读取\n",
    "\"\"\"\n",
    "excelFile = r'health_data.xlsx'\n",
    "df = pd.DataFrame(pd.read_excel(excelFile))\n",
    "#补0\n",
    "df = df.fillna(0)\n",
    "df1= df[['体温','脉搏','呼吸频率',\\\n",
    "         '身高',\\\n",
    "         '平均高压','平均低压','平均压差','身高',\n",
    "         '体重','腰围','BMI','锻炼频率',\\\n",
    "         '吸烟状况','饮酒频率',\\\n",
    "         '心率','心律','杂音',\\\n",
    "         '空腹血糖','心电图',\\\n",
    "         'B超腹部','是否脑血管疾病','是否肾脏疾病','是否心脏疾病','是否血管疾病',\\\n",
    "         '神经系统疾病',\n",
    "         '血常规-白细胞',\\\n",
    "         '性别',\\\n",
    "         '年龄',\\\n",
    "         '高血压']]\n",
    "df2 = df['糖尿病']\n",
    "\n",
    "\n",
    "\n",
    "df11 =df1.values\n",
    "#归一化处理\n",
    "df11= preprocessing.scale(df11)\n",
    "df22 =df2.values"
   ]
  },
  {
   "cell_type": "code",
   "execution_count": 6,
   "metadata": {},
   "outputs": [
    {
     "name": "stdout",
     "output_type": "stream",
     "text": [
      "[[  0.16402948   0.66832943   0.3633163  ...  -1.85489018   0.07515449\n",
      "  -13.99247918]\n",
      " [  0.04050604  -0.36568046  -0.09897386 ...  -1.85489018   0.07515449\n",
      "    0.07146696]\n",
      " [ -0.0830174    2.73634921  -0.09897386 ...  -1.85489018   0.07515449\n",
      "    0.07146696]\n",
      " ...\n",
      " [  0.04050604   0.35017254  -0.09897386 ...   0.53911547   0.07515449\n",
      "    0.07146696]\n",
      " [  0.0713869    0.74786866  -0.09897386 ...   0.53911547   0.07515449\n",
      "    0.07146696]\n",
      " [  0.13314862  -0.12706279  -0.09897386 ...   0.53911547   0.07515449\n",
      "    0.07146696]]\n",
      "[0 0 0 ... 0 0 0]\n"
     ]
    }
   ],
   "source": [
    "print(df11)\n",
    "print(df22)"
   ]
  },
  {
   "cell_type": "code",
   "execution_count": 8,
   "metadata": {},
   "outputs": [
    {
     "name": "stdout",
     "output_type": "stream",
     "text": [
      "Optimal number of features : 24\n"
     ]
    },
    {
     "data": {
      "image/png": "[encoded data removed]",
      "text/plain": [
       "<matplotlib.figure.Figure at 0x1a096662e8>"
      ]
     },
     "metadata": {},
     "output_type": "display_data"
    },
    {
     "name": "stdout",
     "output_type": "stream",
     "text": [
      "[(1, 'BMI'), (1, 'B超腹部'), (1, '体温'), (1, '嗜油'), (1, '嗜盐'), (1, '平均低压'), (1, '平均压差'), (1, '心电图'), (1, '性别'), (1, '是否脑血管疾病'), (1, '是否血管疾病'), (1, '空腹血糖'), (1, '糖尿病高危人群'), (1, '脉搏'), (1, '腰围'), (1, '荤素'), (1, '血型'), (1, '身高'), (1, '身高'), (1, '锻炼频率'), (1, '饮酒频率'), (1, '高血压'), (1, '高血压遗传病'), (1, '高血压高危人群'), (2, '呼吸频率'), (3, '体重'), (4, '糖尿病遗传病'), (5, '是否肾脏疾病'), (6, '吸烟状况'), (7, '神经系统疾病'), (8, '杂音'), (9, '血常规-白细胞'), (10, '心律'), (11, '嗜糖'), (12, '平均高压'), (13, '年龄'), (14, '是否心脏疾病'), (15, '心率')]\n"
     ]
    }
   ],
   "source": [
    "#创建一个SVM模型\n",
    "svc = SVC(kernel=\"linear\")\n",
    "#选择REF模型，设置参数 \n",
    "rfecv = RFECV(estimator=svc, step=1, cv=StratifiedKFold(5),\n",
    "              scoring='accuracy')\n",
    "#训练模型\n",
    "rfecv.fit(df11, df22)\n",
    "print(\"Optimal number of features : %d\" % rfecv.n_features_)\n",
    "# 绘图 Plot number of features VS. cross-validation scores\n",
    "plt.figure()\n",
    "plt.xlabel(\"Number of features selected\")\n",
    "plt.ylabel(\"Cross validation score (nb of correct classifications)\")\n",
    "plt.plot(range(1, len(rfecv.grid_scores_) + 1), rfecv.grid_scores_)\n",
    "plt.show()\n",
    "names = df1.columns.values.tolist()\n",
    "#打印最优特征组合\n",
    "print(sorted(zip(map(lambda x: round(x, 4), rfecv.ranking_), names)))"
   ]
  },
  {
   "cell_type": "code",
   "execution_count": 10,
   "metadata": {},
   "outputs": [],
   "source": [
    "#打乱样本\n",
    "df = df.sample(frac = 1)\n",
    "# 提取选择出的特征\n",
    "df_1 = df[['平均低压','平均压差','平均高压',\\\n",
    "         '是否心脏疾病','是否脑血管疾病','是否血管疾病']]\n",
    "df_2 = df['高血压']"
   ]
  },
  {
   "cell_type": "code",
   "execution_count": 30,
   "metadata": {},
   "outputs": [
    {
     "name": "stdout",
     "output_type": "stream",
     "text": [
      "roc_auc0.9005889171084258\n",
      "recall0.7100739768524044\n",
      "None0.7638543485637005\n",
      "precision0.9794051516052036\n",
      "f10.8225606549666507\n",
      "交叉验证结果:  [0.91054767 0.88813387 0.91163793 0.9045977  0.88470854 0.89919951\n",
      " 0.87994663 0.9089018  0.90492668 0.91328884]\n"
     ]
    }
   ],
   "source": [
    "#朴素贝叶斯\n",
    "import sklearn.model_selection as sk_model_selection\n",
    "import sklearn.naive_bayes as sk_bayes\n",
    "model = sk_bayes.MultinomialNB(alpha=1.0,fit_prior=True,class_prior=None) #多项式分布的朴素贝叶斯\n",
    "model = sk_bayes.BernoulliNB(alpha=1.0,binarize=0.0,fit_prior=True,class_prior=None) #伯努利分布的朴素贝叶斯\n",
    "model = sk_bayes.GaussianNB()#高斯分布的朴素贝叶斯\n",
    "\n",
    "correct = ['roc_auc','recall',None,'precision','f1']\n",
    "for i in correct:\n",
    "    ix = sk_model_selection.cross_val_score(model, df_1, y=df_2, scoring=i, cv=10)\n",
    "    print(str(i) + str(np.mean(ix)))\n",
    "\n",
    "#查看十次AUC\n",
    "roc_auc=sk_model_selection.cross_val_score(model, df_1, y=df_2, scoring='roc_auc',cv=10)\n",
    "print('交叉验证结果: ',roc_auc)"
   ]
  },
  {
   "cell_type": "code",
   "execution_count": 21,
   "metadata": {},
   "outputs": [
    {
     "name": "stdout",
     "output_type": "stream",
     "text": [
      "roc_auc 0.9009952329816308\n",
      "recall 0.9337346378713758\n",
      "None 0.8860751396634695\n",
      "precision 0.9204903073813349\n",
      "f1 0.9270209974999635\n"
     ]
    }
   ],
   "source": [
    "#逻辑回归\n",
    "import sklearn.linear_model as sk_linear\n",
    "model = sk_linear.LogisticRegression(penalty='l2',dual=False,C=1.0,n_jobs=1,random_state=20,fit_intercept=True)\n",
    "for i in correct:\n",
    "    estimate = sk_model_selection.cross_val_score(model, df_1, y=df_2, scoring=i, cv=10)\n",
    "    print(str(i)+' '+ str(np.mean(estimate)))"
   ]
  },
  {
   "cell_type": "code",
   "execution_count": 20,
   "metadata": {},
   "outputs": [
    {
     "name": "stdout",
     "output_type": "stream",
     "text": [
      "Best score: 0.8876705001337256\n",
      "Best parameters: {'criterion': 'entropy', 'max_depth': 6}\n"
     ]
    }
   ],
   "source": [
    "#决策树算法\n",
    "from sklearn.tree import DecisionTreeClassifier\n",
    "#选择分类器\n",
    "decision_tree_classifier = DecisionTreeClassifier()\n",
    "#设定参数网格\n",
    "parameter_grid = {\n",
    "                  'criterion': ['gini', 'entropy'],\n",
    "                   'max_depth': [1, 2, 3, 4, 5,6]\n",
    "\n",
    "                  }\n",
    "#采用5折交叉验证 寻找最优参数\n",
    "grid_search = GridSearchCV(decision_tree_classifier,\n",
    "                           param_grid=parameter_grid,\n",
    "                           cv=5)\n",
    "grid_search.fit(df_1, df_2)\n",
    "print('Best score: {}'.format(grid_search.best_score_))\n",
    "print('Best parameters: {}'.format(grid_search.best_params_))"
   ]
  },
  {
   "cell_type": "code",
   "execution_count": 18,
   "metadata": {},
   "outputs": [
    {
     "name": "stdout",
     "output_type": "stream",
     "text": [
      "roc_auc0.9065819043641797\n",
      "recall0.9240806586326213\n",
      "None0.8882249296306386\n",
      "precision0.9315614670839908\n",
      "f10.9277274102754625\n"
     ]
    }
   ],
   "source": [
    "#使用最优参数构建模型\n",
    "decision_tree_classifier = DecisionTreeClassifier(criterion='entropy', max_depth=6)\n",
    "accuracy=sk_model_selection.cross_val_score(decision_tree_classifier, df_1, y=df_2, scoring=None,cv=10)\n",
    "\n",
    "#打印各种评估结果\n",
    "for i in correct:\n",
    "    estimate = sk_model_selection.cross_val_score(decision_tree_classifier, df_1, y=df_2, scoring=i, cv=10)\n",
    "    print(str(i) + str(np.mean(estimate)))"
   ]
  },
  {
   "cell_type": "code",
   "execution_count": 32,
   "metadata": {},
   "outputs": [
    {
     "name": "stdout",
     "output_type": "stream",
     "text": [
      "[ 650  658  661 ... 3736 3737 3738]\n",
      "[[0.09799987]]\n",
      "**********\n",
      "[   0    1    2 ... 3736 3737 3738]\n",
      "[[0.09784124]]\n",
      "**********\n",
      "[   0    1    2 ... 3736 3737 3738]\n",
      "[[0.13894535]]\n",
      "**********\n",
      "[   0    1    2 ... 3736 3737 3738]\n",
      "[[0.10293239]]\n",
      "**********\n",
      "[   0    1    2 ... 3006 3007 3008]\n",
      "[[0.08502586]]\n",
      "**********\n",
      "gendeng:0.10454894264432173\n",
      "adjust:[0.0017734]\n"
     ]
    },
    {
     "data": {
      "image/png": "[encoded data removed]",
      "text/plain": [
       "<matplotlib.figure.Figure at 0x1a12baa5c0>"
      ]
     },
     "metadata": {},
     "output_type": "display_data"
    }
   ],
   "source": [
    "#画ROC曲线\n",
    "from scipy import interp\n",
    "from sklearn.metrics import roc_curve, auc\n",
    "df_1= np.array(df_1)\n",
    "df_2= np.array(df_2)\n",
    "\n",
    "\n",
    "mean_tpr = 0.0\n",
    "mean_fpr = np.linspace(0, 1, 100)\n",
    "all_tpr = []\n",
    "i=0\n",
    "adjustthresholds = 0\n",
    "gedeng = 0\n",
    "\n",
    "\n",
    "# 画ROC曲线  画5次\n",
    "for train, test in StratifiedKFold(n_splits=5).split(df_1, df_2):\n",
    "    print(train)\n",
    "    # 通过训练数据，使用svm线性核建立模型，并对测试集进行测试，求出预测得分\n",
    "    probas = model.fit(df_1[train], df_2[train]).predict_proba(df_1[test])\n",
    "\n",
    "    # 计算 ROC curve and area the curve\n",
    "    # 通过roc_curve()函数，求出fpr和tpr，以及阈值\n",
    "    fpr, tpr, thresholds = roc_curve(df_2[test], probas[:, 1])\n",
    "\n",
    "    # print(thresholds[np.argwhere((tpr - fpr) == max(tpr-fpr))])\n",
    "    print(thresholds[np.argwhere((tpr - fpr) == max(tpr-fpr))])\n",
    "    #戈登系数\n",
    "    gedeng += np.mean(thresholds[np.argwhere((tpr - fpr) == max(tpr-fpr))])\n",
    "    adjustthresholds += max(thresholds[np.argwhere(tpr >0.90)])\n",
    "    print(\"**********\")\n",
    "    mean_tpr += interp(mean_fpr, fpr, tpr)  # 对mean_tpr在mean_fpr处进行插值，通过scipy包调用interp()函数\n",
    "    mean_tpr[0] = 0.0  # 初始处为0\n",
    "    roc_auc = auc(fpr, tpr)\n",
    "    # 画图，只需要plt.plot(fpr,tpr),变量roc_auc只是记录auc的值，通过auc()函数能计算出来\n",
    "    plt.plot(fpr, tpr, lw=1, label='ROC fold %d (area = %0.2f)' % (i, roc_auc))\n",
    "    i = i+1\n",
    "\n",
    "print(\"gendeng:\"+str(gedeng/5))\n",
    "print(\"adjust:\"+str(adjustthresholds/5))\n",
    "plt.plot([0, 1], [0, 1], '--', color=(0.6, 0.6, 0.6), label='Luck')\n",
    "\n",
    "\n",
    "mean_tpr /= 5 # 在mean_fpr100个点，每个点处插值插值多次取平均\n",
    "mean_tpr[-1] = 1.0  # 坐标最后一个点为（1,1）\n",
    "mean_auc = auc(mean_fpr, mean_tpr)  # 计算平均AUC值\n",
    "# 画平均ROC曲线\n",
    "# print mean_fpr,len(mean_fpr)\n",
    "# print mean_tpr\n",
    "plt.plot(mean_fpr, mean_tpr, 'k--',label='Mean ROC (area = %0.2f)' % mean_auc, lw=2)\n",
    "\n",
    "plt.xlim([-0.05, 1.05])\n",
    "plt.ylim([-0.05, 1.05])\n",
    "plt.xlabel('False Positive Rate')\n",
    "plt.ylabel('True Positive Rate')\n",
    "plt.title('ROC')\n",
    "plt.legend(loc=\"lower right\")\n",
    "plt.show()\n"
   ]
  },
  {
   "cell_type": "code",
   "execution_count": null,
   "metadata": {},
   "outputs": [],
   "source": []
  }
 ],
 "metadata": {
  "kernelspec": {
   "display_name": "Python 3",
   "language": "python",
   "name": "python3"
  },
  "language_info": {
   "codemirror_mode": {
    "name": "ipython",
    "version": 3
   },
   "file_extension": ".py",
   "mimetype": "text/x-python",
   "name": "python",
   "nbconvert_exporter": "python",
   "pygments_lexer": "ipython3",
   "version": "3.6.4"
  }
 },
 "nbformat": 4,
 "nbformat_minor": 2
}
