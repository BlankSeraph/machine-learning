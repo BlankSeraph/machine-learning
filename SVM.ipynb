{
 "cells": [
  {
   "cell_type": "code",
   "execution_count": 11,
   "metadata": {},
   "outputs": [],
   "source": [
    "import numpy as np\n",
    "import pandas as pd\n",
    "from sklearn import svm\n",
    "import numpy as np \n",
    "from sklearn.model_selection import train_test_split\n",
    "from sklearn.model_selection import cross_validate\n",
    "from sklearn import datasets "
   ]
  },
  {
   "cell_type": "code",
   "execution_count": 8,
   "metadata": {},
   "outputs": [
    {
     "data": {
      "text/plain": [
       "SVC(C=1.0, cache_size=200, class_weight=None, coef0=1,\n",
       "  decision_function_shape='ovr', degree=2, gamma=0.1, kernel='poly',\n",
       "  max_iter=-1, probability=True, random_state=None, shrinking=True,\n",
       "  tol=0.001, verbose=False)"
      ]
     },
     "execution_count": 8,
     "metadata": {},
     "output_type": "execute_result"
    }
   ],
   "source": [
    "x=[[1,2,3],[11,18,16],[22,27,26],[33,34,39]]\n",
    "y=[1,1,2,2]\n",
    "clf=svm.SVC(probability=True,kernel='poly', degree=2,gamma=0.1,coef0=1)\n",
    "clf.fit(x,y)"
   ]
  },
  {
   "cell_type": "code",
   "execution_count": 9,
   "metadata": {},
   "outputs": [
    {
     "name": "stdout",
     "output_type": "stream",
     "text": [
      "[[0.62913274 0.37086726]]\n"
     ]
    }
   ],
   "source": [
    "print(clf.predict_proba([[10,15,13]]))"
   ]
  },
  {
   "cell_type": "code",
   "execution_count": 11,
   "metadata": {},
   "outputs": [
    {
     "name": "stdout",
     "output_type": "stream",
     "text": [
      "[2]\n",
      "[[0.23039413 0.44680601 0.32279986]]\n",
      "[[ 1.01201676  2.48798324 -0.5       ]]\n"
     ]
    }
   ],
   "source": [
    "x=[[1,2,3],[11,18,16],[22,27,26],[33,34,39]]\n",
    "y=[2,1,2,3]\n",
    "clf=svm.SVC(probability=True,kernel='rbf', degree=2,gamma=0.1,decision_function_shape=\"ovr\",class_weight={1:10})\n",
    "clf.fit(x,y)\n",
    "print(clf.predict([[10,15,13]]))\n",
    "print(clf.predict_proba([[10,15,13]]))\n",
    "print(clf.decision_function([[10,15,13]]))"
   ]
  },
  {
   "cell_type": "code",
   "execution_count": 12,
   "metadata": {},
   "outputs": [
    {
     "name": "stdout",
     "output_type": "stream",
     "text": [
      "[1]\n",
      "[[0.34890691 0.32548254 0.32561055]]\n",
      "[[ 2.5   0.75 -0.25]]\n"
     ]
    }
   ],
   "source": [
    "x=[[1,2,3],[11,18,16],[22,27,26],[33,34,39]]\n",
    "y=[1,1,2,3]\n",
    "clf=svm.SVC(probability=True,kernel='rbf', degree=2,gamma=0.1,random_state=2,decision_function_shape=\"ovr\")\n",
    "clf.fit(x,y)\n",
    "print(clf.predict([[10,15,13]]))\n",
    "print(clf.predict_proba([[10,15,13]]))\n",
    "print(clf.decision_function([[10,15,13]]))"
   ]
  },
  {
   "cell_type": "code",
   "execution_count": 13,
   "metadata": {},
   "outputs": [
    {
     "name": "stdout",
     "output_type": "stream",
     "text": [
      "[1]\n",
      "[[0.34890691 0.32548254 0.32561055]]\n",
      "[[5.74784310e-01 5.74784310e-01 1.42148466e-20]]\n"
     ]
    }
   ],
   "source": [
    "x=[[1,2,3],[11,18,16],[22,27,26],[33,34,39]]\n",
    "y=[1,1,2,3]\n",
    "clf=svm.SVC(probability=True,kernel='rbf', degree=2,gamma=0.1,random_state=2,decision_function_shape=\"ovo\")\n",
    "clf.fit(x,y)\n",
    "print(clf.predict([[10,15,13]]))\n",
    "print(clf.predict_proba([[10,15,13]]))\n",
    "print(clf.decision_function([[10,15,13]]))"
   ]
  },
  {
   "cell_type": "code",
   "execution_count": 16,
   "metadata": {},
   "outputs": [
    {
     "data": {
      "text/plain": [
       "0.9666666666666667"
      ]
     },
     "execution_count": 16,
     "metadata": {},
     "output_type": "execute_result"
    }
   ],
   "source": [
    "iris = datasets.load_iris() \n",
    "\n",
    "X_train, X_test, y_train, y_test = train_test_split(iris.data, iris.target, test_size=0.4, random_state=0)\n",
    "\n",
    "clf = svm.SVC(kernel='linear', C=1).fit(X_train, y_train)\n",
    "\n",
    "clf.score(X_test, y_test)  "
   ]
  },
  {
   "cell_type": "code",
   "execution_count": null,
   "metadata": {},
   "outputs": [],
   "source": []
  }
 ],
 "metadata": {
  "kernelspec": {
   "display_name": "Python 3",
   "language": "python",
   "name": "python3"
  },
  "language_info": {
   "codemirror_mode": {
    "name": "ipython",
    "version": 3
   },
   "file_extension": ".py",
   "mimetype": "text/x-python",
   "name": "python",
   "nbconvert_exporter": "python",
   "pygments_lexer": "ipython3",
   "version": "3.6.5"
  }
 },
 "nbformat": 4,
 "nbformat_minor": 2
}
